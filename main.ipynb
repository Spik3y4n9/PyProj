{
 "cells": [
  {
   "cell_type": "code",
   "execution_count": 2,
   "metadata": {},
   "outputs": [
    {
     "name": "stdout",
     "output_type": "stream",
     "text": [
      "network topology: Net(\n",
      "  (hidden_layer): Linear(in_features=1, out_features=1, bias=True)\n",
      "  (output_layer): Linear(in_features=1, out_features=1, bias=True)\n",
      ")\n",
      "w_l1 = 1.58\n",
      "b_l1 = -0.14\n",
      "w_l2 = 2.45\n",
      "b_l2 = -0.11\n",
      "a_l2 = 0.8506\n",
      "updated_w_l1 = 1.5814\n",
      "updated_b_l1 = -0.1383\n",
      "updated_w_l2 = 2.4529\n",
      "updated_b_l2 = -0.1062\n",
      "updated_a_l2 = 0.8515\n"
     ]
    }
   ],
   "source": [
    "import torch\n",
    "import torch.nn as nn\n",
    "import torch.optim as optim\n",
    "\n",
    "class Net(nn.Module):\n",
    "    \n",
    "    def __init__(self):\n",
    "        super(Net, self).__init__()\n",
    "        self.hidden_layer = nn.Linear(1, 1)\n",
    "        self.hidden_layer.weight = torch.nn.Parameter(torch.tensor([[1.58]]))\n",
    "        self.hidden_layer.bias = torch.nn.Parameter(torch.tensor([-0.14]))\n",
    "\n",
    "        self.output_layer = nn.Linear(1, 1)\n",
    "        self.output_layer.weight = torch.nn.Parameter(torch.tensor([[2.45]]))\n",
    "        self.output_layer.bias = torch.nn.Parameter(torch.tensor([-0.11]))\n",
    "\n",
    "    def forward(self, x):\n",
    "        x = torch.sigmoid(self.hidden_layer(x))\n",
    "        x = torch.sigmoid(self.output_layer(x))\n",
    "        return x\n",
    "\n",
    "\n",
    "net = Net()       super(Net, self).__init__()\n",
    "\n",
    "print(f\"network topology: {net}\")\n",
    "\n",
    "print(f\"w_l1 = {round(net.hidden_layer.weight.item(), 4)}\")\n",
    "print(f\"b_l1 = {round(net.hidden_layer.bias.item(), 4)}\")\n",
    "print(f\"w_l2 = {round(net.output_layer.weight.item(), 4)}\")\n",
    "print(f\"b_l2 = {round(net.output_layer.bias.item(), 4)}\")\n",
    "\n",
    "# run input data forward through network\n",
    "input_data = torch.tensor([0.8])\n",
    "output = net(input_data)\n",
    "print(f\"a_l2 = {round(output.item(), 4)}\")\n",
    "\n",
    "# backpropagate gradient\n",
    "target = torch.tensor([1.])\n",
    "criterion = nn.MSELoss()\n",
    "loss = criterion(output, target)\n",
    "net.zero_grad()\n",
    "loss.backward()\n",
    "\n",
    "# update weights and biases\n",
    "optimizer = optim.SGD(net.parameters(), lr=0.1)\n",
    "optimizer.step()\n",
    "\n",
    "print(f\"updated_w_l1 = {round(net.hidden_layer.weight.item(), 4)}\")\n",
    "print(f\"updated_b_l1 = {round(net.hidden_layer.bias.item(), 4)}\")\n",
    "print(f\"updated_w_l2 = {round(net.output_layer.weight.item(), 4)}\")\n",
    "print(f\"updated_b_l2 = {round(net.output_layer.bias.item(), 4)}\")\n",
    "\n",
    "output = net(input_data)\n",
    "print(f\"updated_a_l2 = {round(output.item(), 4)}\")"
   ]
  },
  {
   "cell_type": "code",
   "execution_count": null,
   "metadata": {},
   "outputs": [],
   "source": []
  }
 ],
 "metadata": {
  "kernelspec": {
   "display_name": "Python 3.8.13 ('ml')",
   "language": "python",
   "name": "python3"
  },
  "language_info": {
   "codemirror_mode": {
    "name": "ipython",
    "version": 3
   },
   "file_extension": ".py",
   "mimetype": "text/x-python",
   "name": "python",
   "nbconvert_exporter": "python",
   "pygments_lexer": "ipython3",
   "version": "3.8.13"
  },
  "orig_nbformat": 4,
  "vscode": {
   "interpreter": {
    "hash": "ab17cddc9e17708fe7d5eec862258f2644d5bfbb2abf404528655c695bbed4d5"
   }
  }
 },
 "nbformat": 4,
 "nbformat_minor": 2
}
